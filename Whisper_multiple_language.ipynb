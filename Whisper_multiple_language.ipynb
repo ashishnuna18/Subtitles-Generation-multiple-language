{
 "cells": [
  {
   "cell_type": "code",
   "execution_count": 41,
   "metadata": {},
   "outputs": [
    {
     "name": "stdout",
     "output_type": "stream",
     "text": [
      "Moviepy - Building video segmented_videos\\segmented_video_part1.mp4.\n",
      "MoviePy - Writing audio in segmented_video_part1TEMP_MPY_wvf_snd.mp3\n"
     ]
    },
    {
     "name": "stderr",
     "output_type": "stream",
     "text": [
      "                                                                   \r"
     ]
    },
    {
     "name": "stdout",
     "output_type": "stream",
     "text": [
      "MoviePy - Done.\n",
      "Moviepy - Writing video segmented_videos\\segmented_video_part1.mp4\n",
      "\n"
     ]
    },
    {
     "name": "stderr",
     "output_type": "stream",
     "text": [
      "                                                              \r"
     ]
    },
    {
     "name": "stdout",
     "output_type": "stream",
     "text": [
      "Moviepy - Done !\n",
      "Moviepy - video ready segmented_videos\\segmented_video_part1.mp4\n",
      "Moviepy - Building video segmented_videos\\segmented_video_part2.mp4.\n",
      "MoviePy - Writing audio in segmented_video_part2TEMP_MPY_wvf_snd.mp3\n"
     ]
    },
    {
     "name": "stderr",
     "output_type": "stream",
     "text": [
      "                                                                   \r"
     ]
    },
    {
     "name": "stdout",
     "output_type": "stream",
     "text": [
      "MoviePy - Done.\n",
      "Moviepy - Writing video segmented_videos\\segmented_video_part2.mp4\n",
      "\n"
     ]
    },
    {
     "name": "stderr",
     "output_type": "stream",
     "text": [
      "                                                              \r"
     ]
    },
    {
     "name": "stdout",
     "output_type": "stream",
     "text": [
      "Moviepy - Done !\n",
      "Moviepy - video ready segmented_videos\\segmented_video_part2.mp4\n",
      "Moviepy - Building video segmented_videos\\segmented_video_part3.mp4.\n",
      "MoviePy - Writing audio in segmented_video_part3TEMP_MPY_wvf_snd.mp3\n"
     ]
    },
    {
     "name": "stderr",
     "output_type": "stream",
     "text": [
      "                                                                   \r"
     ]
    },
    {
     "name": "stdout",
     "output_type": "stream",
     "text": [
      "MoviePy - Done.\n",
      "Moviepy - Writing video segmented_videos\\segmented_video_part3.mp4\n",
      "\n"
     ]
    },
    {
     "name": "stderr",
     "output_type": "stream",
     "text": [
      "                                                              \r"
     ]
    },
    {
     "name": "stdout",
     "output_type": "stream",
     "text": [
      "Moviepy - Done !\n",
      "Moviepy - video ready segmented_videos\\segmented_video_part3.mp4\n",
      "Moviepy - Building video segmented_videos\\segmented_video_part4.mp4.\n",
      "MoviePy - Writing audio in segmented_video_part4TEMP_MPY_wvf_snd.mp3\n"
     ]
    },
    {
     "name": "stderr",
     "output_type": "stream",
     "text": [
      "                                                                   \r"
     ]
    },
    {
     "name": "stdout",
     "output_type": "stream",
     "text": [
      "MoviePy - Done.\n",
      "Moviepy - Writing video segmented_videos\\segmented_video_part4.mp4\n",
      "\n"
     ]
    },
    {
     "name": "stderr",
     "output_type": "stream",
     "text": [
      "                                                              \r"
     ]
    },
    {
     "name": "stdout",
     "output_type": "stream",
     "text": [
      "Moviepy - Done !\n",
      "Moviepy - video ready segmented_videos\\segmented_video_part4.mp4\n",
      "Moviepy - Building video segmented_videos\\segmented_video_part5.mp4.\n",
      "MoviePy - Writing audio in segmented_video_part5TEMP_MPY_wvf_snd.mp3\n"
     ]
    },
    {
     "name": "stderr",
     "output_type": "stream",
     "text": [
      "                                                                   \r"
     ]
    },
    {
     "name": "stdout",
     "output_type": "stream",
     "text": [
      "MoviePy - Done.\n",
      "Moviepy - Writing video segmented_videos\\segmented_video_part5.mp4\n",
      "\n"
     ]
    },
    {
     "name": "stderr",
     "output_type": "stream",
     "text": [
      "                                                              \r"
     ]
    },
    {
     "name": "stdout",
     "output_type": "stream",
     "text": [
      "Moviepy - Done !\n",
      "Moviepy - video ready segmented_videos\\segmented_video_part5.mp4\n",
      "Moviepy - Building video segmented_videos\\segmented_video_part6.mp4.\n",
      "MoviePy - Writing audio in segmented_video_part6TEMP_MPY_wvf_snd.mp3\n"
     ]
    },
    {
     "name": "stderr",
     "output_type": "stream",
     "text": [
      "                                                                   \r"
     ]
    },
    {
     "name": "stdout",
     "output_type": "stream",
     "text": [
      "MoviePy - Done.\n",
      "Moviepy - Writing video segmented_videos\\segmented_video_part6.mp4\n",
      "\n"
     ]
    },
    {
     "name": "stderr",
     "output_type": "stream",
     "text": [
      "                                                              \r"
     ]
    },
    {
     "name": "stdout",
     "output_type": "stream",
     "text": [
      "Moviepy - Done !\n",
      "Moviepy - video ready segmented_videos\\segmented_video_part6.mp4\n",
      "Moviepy - Building video segmented_videos\\segmented_video_part7.mp4.\n",
      "MoviePy - Writing audio in segmented_video_part7TEMP_MPY_wvf_snd.mp3\n"
     ]
    },
    {
     "name": "stderr",
     "output_type": "stream",
     "text": [
      "                                                                   \r"
     ]
    },
    {
     "name": "stdout",
     "output_type": "stream",
     "text": [
      "MoviePy - Done.\n",
      "Moviepy - Writing video segmented_videos\\segmented_video_part7.mp4\n",
      "\n"
     ]
    },
    {
     "name": "stderr",
     "output_type": "stream",
     "text": [
      "                                                              \r"
     ]
    },
    {
     "name": "stdout",
     "output_type": "stream",
     "text": [
      "Moviepy - Done !\n",
      "Moviepy - video ready segmented_videos\\segmented_video_part7.mp4\n",
      "Moviepy - Building video segmented_videos\\segmented_video_part8.mp4.\n",
      "MoviePy - Writing audio in segmented_video_part8TEMP_MPY_wvf_snd.mp3\n"
     ]
    },
    {
     "name": "stderr",
     "output_type": "stream",
     "text": [
      "                                                                   \r"
     ]
    },
    {
     "name": "stdout",
     "output_type": "stream",
     "text": [
      "MoviePy - Done.\n",
      "Moviepy - Writing video segmented_videos\\segmented_video_part8.mp4\n",
      "\n"
     ]
    },
    {
     "name": "stderr",
     "output_type": "stream",
     "text": [
      "                                                              \r"
     ]
    },
    {
     "name": "stdout",
     "output_type": "stream",
     "text": [
      "Moviepy - Done !\n",
      "Moviepy - video ready segmented_videos\\segmented_video_part8.mp4\n",
      "Moviepy - Building video segmented_videos\\segmented_video_part9.mp4.\n",
      "MoviePy - Writing audio in segmented_video_part9TEMP_MPY_wvf_snd.mp3\n"
     ]
    },
    {
     "name": "stderr",
     "output_type": "stream",
     "text": [
      "                                                                   \r"
     ]
    },
    {
     "name": "stdout",
     "output_type": "stream",
     "text": [
      "MoviePy - Done.\n",
      "Moviepy - Writing video segmented_videos\\segmented_video_part9.mp4\n",
      "\n"
     ]
    },
    {
     "name": "stderr",
     "output_type": "stream",
     "text": [
      "                                                              \r"
     ]
    },
    {
     "name": "stdout",
     "output_type": "stream",
     "text": [
      "Moviepy - Done !\n",
      "Moviepy - video ready segmented_videos\\segmented_video_part9.mp4\n",
      "Moviepy - Building video segmented_videos\\segmented_video_part10.mp4.\n",
      "MoviePy - Writing audio in segmented_video_part10TEMP_MPY_wvf_snd.mp3\n"
     ]
    },
    {
     "name": "stderr",
     "output_type": "stream",
     "text": [
      "                                                                   \r"
     ]
    },
    {
     "name": "stdout",
     "output_type": "stream",
     "text": [
      "MoviePy - Done.\n",
      "Moviepy - Writing video segmented_videos\\segmented_video_part10.mp4\n",
      "\n"
     ]
    },
    {
     "name": "stderr",
     "output_type": "stream",
     "text": [
      "                                                              \r"
     ]
    },
    {
     "name": "stdout",
     "output_type": "stream",
     "text": [
      "Moviepy - Done !\n",
      "Moviepy - video ready segmented_videos\\segmented_video_part10.mp4\n",
      "Moviepy - Building video segmented_videos\\segmented_video_part11.mp4.\n",
      "MoviePy - Writing audio in segmented_video_part11TEMP_MPY_wvf_snd.mp3\n"
     ]
    },
    {
     "name": "stderr",
     "output_type": "stream",
     "text": [
      "                                                                   \r"
     ]
    },
    {
     "name": "stdout",
     "output_type": "stream",
     "text": [
      "MoviePy - Done.\n",
      "Moviepy - Writing video segmented_videos\\segmented_video_part11.mp4\n",
      "\n"
     ]
    },
    {
     "name": "stderr",
     "output_type": "stream",
     "text": [
      "                                                              \r"
     ]
    },
    {
     "name": "stdout",
     "output_type": "stream",
     "text": [
      "Moviepy - Done !\n",
      "Moviepy - video ready segmented_videos\\segmented_video_part11.mp4\n",
      "Moviepy - Building video segmented_videos\\segmented_video_part12.mp4.\n",
      "MoviePy - Writing audio in segmented_video_part12TEMP_MPY_wvf_snd.mp3\n"
     ]
    },
    {
     "name": "stderr",
     "output_type": "stream",
     "text": [
      "                                                                   \r"
     ]
    },
    {
     "name": "stdout",
     "output_type": "stream",
     "text": [
      "MoviePy - Done.\n",
      "Moviepy - Writing video segmented_videos\\segmented_video_part12.mp4\n",
      "\n"
     ]
    },
    {
     "name": "stderr",
     "output_type": "stream",
     "text": [
      "                                                              \r"
     ]
    },
    {
     "name": "stdout",
     "output_type": "stream",
     "text": [
      "Moviepy - Done !\n",
      "Moviepy - video ready segmented_videos\\segmented_video_part12.mp4\n"
     ]
    }
   ],
   "source": [
    "from moviepy.editor import VideoFileClip\n",
    "import os\n",
    "\n",
    "def segment_video(input_file, output_folder, output_prefix):\n",
    "    if not os.path.exists(output_folder):\n",
    "        os.makedirs(output_folder)\n",
    "\n",
    "    clip = VideoFileClip(input_file)\n",
    "    duration = clip.duration\n",
    "    start_time = 0\n",
    "    end_time = 10  # segment duration in seconds\n",
    "\n",
    "    segment_count = 1\n",
    "\n",
    "    while start_time < duration:\n",
    "        if end_time > duration:\n",
    "            end_time = duration\n",
    "\n",
    "        segment = clip.subclip(start_time, end_time)\n",
    "        segment_output = os.path.join(output_folder, f\"{output_prefix}_part{segment_count}.mp4\")\n",
    "        segment.write_videofile(segment_output, codec=\"libx264\")\n",
    "        \n",
    "        # Update start and end time for the next segment\n",
    "        start_time = end_time\n",
    "        end_time += 10\n",
    "        segment_count += 1\n",
    "\n",
    "    clip.close()\n",
    "\n",
    "input_file = \"input_video.mp4\"\n",
    "output_folder = \"segmented_videos\"\n",
    "output_prefix = \"segmented_video\"\n",
    "segment_video(input_file, output_folder, output_prefix)\n"
   ]
  },
  {
   "cell_type": "code",
   "execution_count": 42,
   "metadata": {},
   "outputs": [
    {
     "name": "stdout",
     "output_type": "stream",
     "text": [
      "MoviePy - Writing audio in output_audio\\segmented_video_part1.mp3\n"
     ]
    },
    {
     "name": "stderr",
     "output_type": "stream",
     "text": [
      "                                                                   \r"
     ]
    },
    {
     "name": "stdout",
     "output_type": "stream",
     "text": [
      "MoviePy - Done.\n",
      "MoviePy - Writing audio in output_audio\\segmented_video_part10.mp3\n"
     ]
    },
    {
     "name": "stderr",
     "output_type": "stream",
     "text": [
      "                                                                   \r"
     ]
    },
    {
     "name": "stdout",
     "output_type": "stream",
     "text": [
      "MoviePy - Done.\n",
      "MoviePy - Writing audio in output_audio\\segmented_video_part11.mp3\n"
     ]
    },
    {
     "name": "stderr",
     "output_type": "stream",
     "text": [
      "                                                                   \r"
     ]
    },
    {
     "name": "stdout",
     "output_type": "stream",
     "text": [
      "MoviePy - Done.\n",
      "MoviePy - Writing audio in output_audio\\segmented_video_part12.mp3\n"
     ]
    },
    {
     "name": "stderr",
     "output_type": "stream",
     "text": [
      "                                                                   \r"
     ]
    },
    {
     "name": "stdout",
     "output_type": "stream",
     "text": [
      "MoviePy - Done.\n",
      "MoviePy - Writing audio in output_audio\\segmented_video_part2.mp3\n"
     ]
    },
    {
     "name": "stderr",
     "output_type": "stream",
     "text": [
      "                                                                   \r"
     ]
    },
    {
     "name": "stdout",
     "output_type": "stream",
     "text": [
      "MoviePy - Done.\n",
      "MoviePy - Writing audio in output_audio\\segmented_video_part3.mp3\n"
     ]
    },
    {
     "name": "stderr",
     "output_type": "stream",
     "text": [
      "                                                                   \r"
     ]
    },
    {
     "name": "stdout",
     "output_type": "stream",
     "text": [
      "MoviePy - Done.\n",
      "MoviePy - Writing audio in output_audio\\segmented_video_part4.mp3\n"
     ]
    },
    {
     "name": "stderr",
     "output_type": "stream",
     "text": [
      "                                                                   \r"
     ]
    },
    {
     "name": "stdout",
     "output_type": "stream",
     "text": [
      "MoviePy - Done.\n",
      "MoviePy - Writing audio in output_audio\\segmented_video_part5.mp3\n"
     ]
    },
    {
     "name": "stderr",
     "output_type": "stream",
     "text": [
      "                                                                   \r"
     ]
    },
    {
     "name": "stdout",
     "output_type": "stream",
     "text": [
      "MoviePy - Done.\n",
      "MoviePy - Writing audio in output_audio\\segmented_video_part6.mp3\n"
     ]
    },
    {
     "name": "stderr",
     "output_type": "stream",
     "text": [
      "                                                                   \r"
     ]
    },
    {
     "name": "stdout",
     "output_type": "stream",
     "text": [
      "MoviePy - Done.\n",
      "MoviePy - Writing audio in output_audio\\segmented_video_part7.mp3\n"
     ]
    },
    {
     "name": "stderr",
     "output_type": "stream",
     "text": [
      "                                                                   \r"
     ]
    },
    {
     "name": "stdout",
     "output_type": "stream",
     "text": [
      "MoviePy - Done.\n",
      "MoviePy - Writing audio in output_audio\\segmented_video_part8.mp3\n"
     ]
    },
    {
     "name": "stderr",
     "output_type": "stream",
     "text": [
      "                                                                   \r"
     ]
    },
    {
     "name": "stdout",
     "output_type": "stream",
     "text": [
      "MoviePy - Done.\n",
      "MoviePy - Writing audio in output_audio\\segmented_video_part9.mp3\n"
     ]
    },
    {
     "name": "stderr",
     "output_type": "stream",
     "text": [
      "                                                                   \r"
     ]
    },
    {
     "name": "stdout",
     "output_type": "stream",
     "text": [
      "MoviePy - Done.\n"
     ]
    }
   ],
   "source": [
    "from moviepy.editor import VideoFileClip\n",
    "import os\n",
    "\n",
    "\n",
    "\n",
    "def extract_audio_from_folder(input_folder, output_folder):\n",
    "    if not os.path.exists(output_folder):\n",
    "        os.makedirs(output_folder)\n",
    "\n",
    "    # List all files in the input folder\n",
    "    for filename in os.listdir(input_folder):\n",
    "        if filename.endswith(\".mp4\"):  # Check if the file is an MP4 video\n",
    "            input_file_path = os.path.join(input_folder, filename)\n",
    "            output_file_path = os.path.join(output_folder, f\"{os.path.splitext(filename)[0]}.mp3\")  # Change extension to mp3\n",
    "\n",
    "            # Load video file and extract audio\n",
    "            clip = VideoFileClip(input_file_path)\n",
    "            audio = clip.audio\n",
    "\n",
    "            # Write audio to output file\n",
    "            audio.write_audiofile(output_file_path)\n",
    "\n",
    "            # Close the clip\n",
    "            clip.close()\n",
    "\n",
    "# Input and output folder paths\n",
    "input_folder = r\"C:\\Users\\ashin\\OneDrive\\Desktop\\new_subtitles_code\\segmented_videos\"\n",
    "output_folder = \"output_audio\"\n",
    "\n",
    "# Extract audio from videos in the input folder and save to the output folder\n",
    "extract_audio_from_folder(input_folder, output_folder)\n"
   ]
  },
  {
   "cell_type": "code",
   "execution_count": 43,
   "metadata": {},
   "outputs": [],
   "source": [
    "import whisper_timestamped as whisper\n",
    "\n",
    "model = whisper.load_model(\"kurianbenoy/whisper-medium-tamil\")"
   ]
  },
  {
   "cell_type": "code",
   "execution_count": 44,
   "metadata": {},
   "outputs": [
    {
     "name": "stderr",
     "output_type": "stream",
     "text": [
      "100%|██████████| 1003/1003 [00:25<00:00, 38.61frames/s]\n",
      "100%|██████████| 1003/1003 [00:43<00:00, 23.10frames/s]\n",
      "100%|██████████| 1003/1003 [00:12<00:00, 82.28frames/s]\n",
      "100%|██████████| 938/938 [00:17<00:00, 53.08frames/s]\n",
      "100%|██████████| 1003/1003 [00:12<00:00, 80.50frames/s]\n",
      "100%|██████████| 1003/1003 [00:25<00:00, 38.90frames/s]\n",
      "100%|██████████| 1003/1003 [00:23<00:00, 42.56frames/s]\n",
      "100%|██████████| 1003/1003 [00:30<00:00, 32.64frames/s]\n",
      "100%|██████████| 1003/1003 [00:26<00:00, 37.21frames/s]\n",
      "100%|██████████| 1003/1003 [00:28<00:00, 35.29frames/s]\n",
      "100%|██████████| 1003/1003 [00:28<00:00, 35.53frames/s]\n",
      "100%|██████████| 1003/1003 [01:15<00:00, 13.34frames/s]\n"
     ]
    }
   ],
   "source": [
    "import os\n",
    "import whisper_timestamped as whisper\n",
    "import json\n",
    "\n",
    "# Function to transcribe audio and save result as JSON\n",
    "def transcribe_and_save(audio_folder, output_folder, model, language=\"ta\"):\n",
    "    # Create output folder if it doesn't exist\n",
    "    if not os.path.exists(output_folder):\n",
    "        os.makedirs(output_folder)\n",
    "\n",
    "    # Iterate over audio files in the input folder\n",
    "    for file_name in os.listdir(audio_folder):\n",
    "        if file_name.endswith(\".mp3\"):  # Adjust the extension as needed\n",
    "\n",
    "            # Load audio\n",
    "            audio_path = os.path.join(audio_folder, file_name)\n",
    "            audio = whisper.load_audio(audio_path)\n",
    "\n",
    "            # Transcribe audio\n",
    "            result = whisper.transcribe(model, audio, language=language)\n",
    "\n",
    "            # Convert result to JSON\n",
    "            result_json = json.dumps(result, indent=2, ensure_ascii=False)\n",
    "\n",
    "            # Save result as JSON file\n",
    "            output_file_path = os.path.join(output_folder, f\"{file_name.split('.')[0]}_transcription.json\")\n",
    "            with open(output_file_path, \"w\", encoding=\"utf-8\") as f:\n",
    "                f.write(result_json)\n",
    "\n",
    "# Example usage\n",
    "input_folder = r\"C:\\Users\\ashin\\OneDrive\\Desktop\\new_subtitles_code\\output_audio\"\n",
    "output_folder = r\"C:\\Users\\ashin\\OneDrive\\Desktop\\new_subtitles_code\\output_json_ta\"\n",
    "model = whisper.load_model(\"kurianbenoy/whisper-medium-tamil\")\n",
    "transcribe_and_save(input_folder, output_folder, model)\n"
   ]
  },
  {
   "cell_type": "code",
   "execution_count": 45,
   "metadata": {},
   "outputs": [
    {
     "name": "stderr",
     "output_type": "stream",
     "text": [
      "100%|██████████| 1003/1003 [00:25<00:00, 39.13frames/s]\n",
      "100%|██████████| 1003/1003 [00:11<00:00, 89.93frames/s]\n",
      "100%|██████████| 1003/1003 [00:09<00:00, 107.82frames/s]\n",
      "  0%|          | 0/938 [00:10<?, ?frames/s]\n",
      "100%|█████████▉| 998/1003 [00:21<00:00, 46.49frames/s]\n",
      "  0%|          | 0/1003 [00:16<?, ?frames/s]\n",
      "100%|██████████| 1003/1003 [00:54<00:00, 18.31frames/s]\n",
      "100%|██████████| 1003/1003 [00:15<00:00, 65.06frames/s]\n",
      "  0%|          | 0/1003 [00:10<?, ?frames/s]\n",
      "  0%|          | 0/1003 [00:09<?, ?frames/s]\n",
      "  0%|          | 0/1003 [00:11<?, ?frames/s]\n",
      "100%|██████████| 1003/1003 [00:14<00:00, 71.44frames/s]\n"
     ]
    }
   ],
   "source": [
    "import os\n",
    "import whisper_timestamped as whisper\n",
    "import json\n",
    "\n",
    "# Function to transcribe audio and save result as JSON\n",
    "def transcribe_and_save(audio_folder, output_folder, model, language=\"en\"):\n",
    "    # Create output folder if it doesn't exist\n",
    "    if not os.path.exists(output_folder):\n",
    "        os.makedirs(output_folder)\n",
    "\n",
    "    # Iterate over audio files in the input folder\n",
    "    for file_name in os.listdir(audio_folder):\n",
    "        if file_name.endswith(\".mp3\"):  # Adjust the extension as needed\n",
    "            # Load audio\n",
    "            audio_path = os.path.join(audio_folder, file_name)\n",
    "            audio = whisper.load_audio(audio_path)\n",
    "\n",
    "            # Transcribe audio\n",
    "            result = whisper.transcribe(model, audio, language=language)\n",
    "\n",
    "            # Convert result to JSON\n",
    "            result_json = json.dumps(result, indent=2, ensure_ascii=False)\n",
    "\n",
    "            # Save result as JSON file\n",
    "            output_file_path = os.path.join(output_folder, f\"{file_name.split('.')[0]}_transcription.json\")\n",
    "            with open(output_file_path, \"w\", encoding=\"utf-8\") as f:\n",
    "                f.write(result_json)\n",
    "\n",
    "# Example usage\n",
    "input_folder = r\"C:\\Users\\ashin\\OneDrive\\Desktop\\new_subtitles_code\\output_audio\"\n",
    "output_folder = r\"C:\\Users\\ashin\\OneDrive\\Desktop\\new_subtitles_code\\output_json_en\"\n",
    "model = whisper.load_model(\"kurianbenoy/whisper-medium-tamil\")\n",
    "transcribe_and_save(input_folder, output_folder, model)\n"
   ]
  },
  {
   "cell_type": "code",
   "execution_count": 60,
   "metadata": {},
   "outputs": [],
   "source": [
    "import os\n",
    "import json\n",
    "\n",
    "def generate_srt_from_json(json_folder, output_folder):\n",
    "    # Create output folder if it doesn't exist\n",
    "    if not os.path.exists(output_folder):\n",
    "        os.makedirs(output_folder)\n",
    "        \n",
    "    for filename in os.listdir(json_folder):\n",
    "        if filename.endswith(\".json\"):\n",
    "            with open(os.path.join(json_folder, filename), 'r', encoding='utf-8') as json_file:\n",
    "                result = json.load(json_file)\n",
    "                generate_srt(result, os.path.splitext(filename)[0], output_folder)\n",
    "\n",
    "def generate_srt(result, filename, output_folder):\n",
    "    srt_file_path = os.path.join(output_folder, f'{filename}.srt')\n",
    "    with open(srt_file_path, 'w', encoding='utf-8') as f:  # Specify encoding here\n",
    "        for i, segment in enumerate(result['segments']):\n",
    "            if segment[\"confidence\"]>0.60 and (float(segment[\"start\"])- float(segment[\"end\"]))>-10:\n",
    "                start, end = segment['start'], segment['end']\n",
    "                f.write(str(i) + \"\\n\")\n",
    "                f.write(f\"00:00:{str(float(start)).replace('.', ',')} --> 00:00:{str(float(end)).replace('.', ',')}\\n\")\n",
    "                f.write(segment['text'].strip())\n",
    "                f.write(\"\\n\\n\")\n",
    "\n",
    "# Usage example:\n",
    "json_folder = r\"C:\\Users\\ashin\\OneDrive\\Desktop\\new_subtitles_code\\output_json_ta\"\n",
    "output_folder = r\"C:\\Users\\ashin\\OneDrive\\Desktop\\new_subtitles_code\\output_srt_ta\"\n",
    "generate_srt_from_json(json_folder, output_folder)\n",
    "\n"
   ]
  },
  {
   "cell_type": "code",
   "execution_count": 61,
   "metadata": {},
   "outputs": [],
   "source": [
    "import os\n",
    "import json\n",
    "import re\n",
    "\n",
    "def generate_srt_from_json(json_folder, output_folder):\n",
    "    # Create output folder if it doesn't exist\n",
    "    if not os.path.exists(output_folder):\n",
    "        os.makedirs(output_folder)\n",
    "        \n",
    "    for filename in os.listdir(json_folder):\n",
    "        if filename.endswith(\".json\"):\n",
    "            with open(os.path.join(json_folder, filename), 'r', encoding='utf-8') as json_file:\n",
    "                result = json.load(json_file)\n",
    "                generate_srt(result, os.path.splitext(filename)[0], output_folder)\n",
    "def generate_srt(result, filename, output_folder):\n",
    "    tamil_pattern = re.compile(r'[\\u0B80-\\u0BFF]+')\n",
    "    english_pattern = re.compile(r'[a-zA-Z]+')\n",
    "    srt_file_path = os.path.join(output_folder, f'{filename}.srt')\n",
    "    with open(srt_file_path, 'w', encoding='utf-8') as f:  # Specify encoding here\n",
    "        for i, segment in enumerate(result['segments']):\n",
    "            if segment[\"confidence\"]>0.60 and (float(segment[\"start\"])- float(segment[\"end\"]))>-10:\n",
    "                if (not tamil_pattern.search(segment['text'])) or (not english_pattern.search(segment['text'])):\n",
    "                    start, end = segment['start'], segment['end']\n",
    "                    f.write(str(i) + \"\\n\")\n",
    "                    f.write(f\"00:00:{str(float(start)).replace('.', ',')} --> 00:00:{str(float(end)).replace('.', ',')}\\n\")\n",
    "                    f.write(segment['text'].strip())\n",
    "                    f.write(\"\\n\\n\")\n",
    "\n",
    "\n",
    "# Usage example:\n",
    "json_folder = r\"C:\\Users\\ashin\\OneDrive\\Desktop\\new_subtitles_code\\output_json_en\"\n",
    "output_folder = r\"C:\\Users\\ashin\\OneDrive\\Desktop\\new_subtitles_code\\output_srt_en\"\n",
    "generate_srt_from_json(json_folder, output_folder)\n",
    "\n"
   ]
  },
  {
   "cell_type": "code",
   "execution_count": 72,
   "metadata": {},
   "outputs": [],
   "source": [
    "import os\n",
    "import re\n",
    "\n",
    "def clean_srt_files(folder_path):\n",
    "    # Iterate over all files in the folder\n",
    "    for filename in os.listdir(folder_path):\n",
    "        if filename.endswith(\".srt\"):\n",
    "            file_path = os.path.join(folder_path, filename)\n",
    "            # Read the contents of the SRT file\n",
    "            with open(file_path, \"r\", encoding=\"utf-8\") as file:\n",
    "                srt_contents = file.read()\n",
    "\n",
    "            # Define a regular expression pattern to match lines with both Tamil and English text\n",
    "            pattern = r'^\\d+\\n(?:[\\d:,->]+\\n)?[^\\n]*[அ-௹]+\\w*[a-zA-Z]+\\w*.*\\n[^\\n]*[a-zA-Z]+\\w*[அ-௹]+\\w*.*\\n'\n",
    "\n",
    "            # Remove lines matching the pattern\n",
    "            cleaned_srt = re.sub(pattern, '', srt_contents, flags=re.MULTILINE)\n",
    "\n",
    "            # Write the cleaned contents back to the file\n",
    "            with open(file_path, \"w\", encoding=\"utf-8\") as file:\n",
    "                file.write(cleaned_srt)\n",
    "\n",
    "folder_path = r\"C:\\Users\\ashin\\OneDrive\\Desktop\\new_subtitles_code\\output_srt_en\"\n",
    "clean_srt_files(folder_path)\n"
   ]
  },
  {
   "cell_type": "code",
   "execution_count": 62,
   "metadata": {},
   "outputs": [
    {
     "name": "stdout",
     "output_type": "stream",
     "text": [
      "Merged segmented_video_part10_transcription.srt and segmented_video_part10_transcription.srt into segmented_video_part10_transcription_merged.srt\n",
      "Merged segmented_video_part11_transcription.srt and segmented_video_part11_transcription.srt into segmented_video_part11_transcription_merged.srt\n",
      "Merged segmented_video_part12_transcription.srt and segmented_video_part12_transcription.srt into segmented_video_part12_transcription_merged.srt\n",
      "Merged segmented_video_part1_transcription.srt and segmented_video_part1_transcription.srt into segmented_video_part1_transcription_merged.srt\n",
      "Merged segmented_video_part2_transcription.srt and segmented_video_part2_transcription.srt into segmented_video_part2_transcription_merged.srt\n",
      "Merged segmented_video_part3_transcription.srt and segmented_video_part3_transcription.srt into segmented_video_part3_transcription_merged.srt\n",
      "Merged segmented_video_part4_transcription.srt and segmented_video_part4_transcription.srt into segmented_video_part4_transcription_merged.srt\n",
      "Merged segmented_video_part5_transcription.srt and segmented_video_part5_transcription.srt into segmented_video_part5_transcription_merged.srt\n",
      "Merged segmented_video_part6_transcription.srt and segmented_video_part6_transcription.srt into segmented_video_part6_transcription_merged.srt\n",
      "Merged segmented_video_part7_transcription.srt and segmented_video_part7_transcription.srt into segmented_video_part7_transcription_merged.srt\n",
      "Merged segmented_video_part8_transcription.srt and segmented_video_part8_transcription.srt into segmented_video_part8_transcription_merged.srt\n",
      "Merged segmented_video_part9_transcription.srt and segmented_video_part9_transcription.srt into segmented_video_part9_transcription_merged.srt\n"
     ]
    }
   ],
   "source": [
    "import os\n",
    "\n",
    "def merge_srt_files(english_folder, tamil_folder, output_folder):\n",
    "    # Ensure output folder exists, create it if not\n",
    "    if not os.path.exists(output_folder):\n",
    "        os.makedirs(output_folder)\n",
    "\n",
    "    # Get a list of filenames in the English folder\n",
    "    english_files = sorted(os.listdir(english_folder))\n",
    "    # Get a list of filenames in the Tamil folder\n",
    "    tamil_files = sorted(os.listdir(tamil_folder))\n",
    "\n",
    "    # Iterate through each pair of files\n",
    "    for english_file, tamil_file in zip(english_files, tamil_files):\n",
    "        english_path = os.path.join(english_folder, english_file)\n",
    "        tamil_path = os.path.join(tamil_folder, tamil_file)\n",
    "\n",
    "        # Read contents of English and Tamil files\n",
    "        with open(english_path, 'r', encoding='utf-8') as english_f, \\\n",
    "             open(tamil_path, 'r', encoding='utf-8') as tamil_f:\n",
    "            english_content = english_f.read().strip()\n",
    "            tamil_content = tamil_f.read().strip()\n",
    "\n",
    "        # Merge contents\n",
    "        merged_content = english_content + '\\n\\n' + tamil_content\n",
    "\n",
    "        # Write merged content to a new file in the output folder\n",
    "        output_filename = f\"{os.path.splitext(english_file)[0]}_merged.srt\"\n",
    "        output_path = os.path.join(output_folder, output_filename)\n",
    "        with open(output_path, 'w', encoding='utf-8') as output_f:\n",
    "            output_f.write(merged_content)\n",
    "\n",
    "        print(f\"Merged {english_file} and {tamil_file} into {output_filename}\")\n",
    "\n",
    "# Paths to English and Tamil SRT folders\n",
    "english_folder = r'C:\\Users\\ashin\\OneDrive\\Desktop\\new_subtitles_code\\output_srt_en'\n",
    "tamil_folder = r'C:\\Users\\ashin\\OneDrive\\Desktop\\new_subtitles_code\\output_srt_ta'\n",
    "# Output folder for merged files\n",
    "output_folder = 'merged_srt'\n",
    "\n",
    "# Call the function to merge SRT files\n",
    "merge_srt_files(english_folder, tamil_folder, output_folder)\n"
   ]
  },
  {
   "cell_type": "code",
   "execution_count": 63,
   "metadata": {},
   "outputs": [
    {
     "name": "stdout",
     "output_type": "stream",
     "text": [
      "1\n",
      "00:00:3,44 --> 00:00:10,0\n",
      "தேர்ந்தெடுக்கப்படும் அதிபன்முறை பாதுகாக்கும் அதிகாரங்களுடன் இந்த யோசனை ஆயிரத்து தொளாயிரத்து என்பத்தினான்காம் ஆண்டு.\n",
      "\n",
      "2\n",
      "00:00:3,48 --> 00:00:10,0\n",
      "Teyrந்தெடுக்கப்படும் அதிவன்முறை பாதுகாக்கும் அதிகாரங்களுடன், இந்த யோசனை ஆயிரத்து தொழுளாயிரத்து எண்பத்தினான்காம் ஆண்டு.\n",
      "\n"
     ]
    }
   ],
   "source": [
    "def read_srt_file(srt_path):\n",
    "    subtitles = []\n",
    "    with open(srt_path, 'r', encoding='utf-8') as file:\n",
    "        lines = file.readlines()\n",
    "        index = 0\n",
    "        while index < len(lines):\n",
    "            if lines[index].strip().isdigit():\n",
    "                index += 1\n",
    "                time = lines[index].strip()\n",
    "                index += 1\n",
    "                text = \"\"\n",
    "                while index < len(lines) and lines[index].strip() != \"\":\n",
    "                    text += lines[index].strip() + \" \"\n",
    "                    index += 1\n",
    "                subtitles.append((time, text.strip()))\n",
    "            else:\n",
    "                index += 1\n",
    "    return subtitles\n",
    "\n",
    "def merge_subtitles(subtitles):\n",
    "    merged_subtitles = []\n",
    "    for time, text in subtitles:\n",
    "        if merged_subtitles and merged_subtitles[-1][0] == time:\n",
    "            merged_subtitles[-1] = (time, merged_subtitles[-1][1] + \" \" + text)\n",
    "        else:\n",
    "            merged_subtitles.append((time, text))\n",
    "    return merged_subtitles\n",
    "\n",
    "def reorder_subtitles(subtitles):\n",
    "    return sorted(subtitles, key=lambda x: x[0])\n",
    "\n",
    "def print_subtitles(subtitles):\n",
    "    for index, subtitle in enumerate(subtitles, start=1):\n",
    "        print(index)\n",
    "        print(subtitle[0])\n",
    "        print(subtitle[1])\n",
    "        print()\n",
    "\n",
    "# Provide the path to your SRT file here\n",
    "srt_path = r\"C:\\Users\\ashin\\OneDrive\\Desktop\\new_subtitles_code\\merged_srt\\segmented_video_part1_transcription_merged.srt\"\n",
    "subtitles = read_srt_file(srt_path)\n",
    "merged_subtitles = merge_subtitles(subtitles)\n",
    "reordered_subtitles = reorder_subtitles(merged_subtitles)\n",
    "print_subtitles(reordered_subtitles)\n"
   ]
  },
  {
   "cell_type": "code",
   "execution_count": 64,
   "metadata": {},
   "outputs": [],
   "source": [
    "import os\n",
    "\n",
    "def read_srt_file(srt_path):\n",
    "    subtitles = []\n",
    "    with open(srt_path, 'r', encoding='utf-8') as file:\n",
    "        lines = file.readlines()\n",
    "        index = 0\n",
    "        while index < len(lines):\n",
    "            if lines[index].strip().isdigit():\n",
    "                index += 1\n",
    "                time = lines[index].strip()\n",
    "                index += 1\n",
    "                text = \"\"\n",
    "                while index < len(lines) and lines[index].strip() != \"\":\n",
    "                    text += lines[index].strip() + \" \"\n",
    "                    index += 1\n",
    "                subtitles.append((time, text.strip()))\n",
    "            else:\n",
    "                index += 1\n",
    "    return subtitles\n",
    "\n",
    "def merge_subtitles(subtitles):\n",
    "    merged_subtitles = []\n",
    "    for time, text in subtitles:\n",
    "        if merged_subtitles and merged_subtitles[-1][0] == time:\n",
    "            merged_subtitles[-1] = (time, merged_subtitles[-1][1] + \" \" + text)\n",
    "        else:\n",
    "            merged_subtitles.append((time, text))\n",
    "    return merged_subtitles\n",
    "\n",
    "def reorder_subtitles(subtitles):\n",
    "    return sorted(subtitles, key=lambda x: x[0])\n",
    "\n",
    "def save_merged_srt(input_folder, output_folder):\n",
    "    if not os.path.exists(output_folder):\n",
    "        os.makedirs(output_folder)\n",
    "\n",
    "    for filename in os.listdir(input_folder):\n",
    "        if filename.endswith(\".srt\"):\n",
    "            input_file_path = os.path.join(input_folder, filename)\n",
    "            output_file_path = os.path.join(output_folder, filename)\n",
    "\n",
    "            subtitles = read_srt_file(input_file_path)\n",
    "            merged_subtitles = merge_subtitles(subtitles)\n",
    "            reordered_subtitles = reorder_subtitles(merged_subtitles)\n",
    "\n",
    "            with open(output_file_path, 'w', encoding='utf-8') as output_file:\n",
    "                for time, text in reordered_subtitles:\n",
    "                    output_file.write(time + '\\n')\n",
    "                    output_file.write(text + '\\n\\n')\n",
    "\n",
    "# Provide the paths to your input and output folders here\n",
    "input_folder = r\"C:\\Users\\ashin\\OneDrive\\Desktop\\new_subtitles_code\\merged_srt\"\n",
    "output_folder = r\"C:\\Users\\ashin\\OneDrive\\Desktop\\new_subtitles_code\\new_merged_srt\"\n",
    "\n",
    "save_merged_srt(input_folder, output_folder)\n"
   ]
  },
  {
   "cell_type": "code",
   "execution_count": 65,
   "metadata": {},
   "outputs": [],
   "source": [
    "import os\n",
    "\n",
    "def read_srt_file(srt_path):\n",
    "    subtitles = []\n",
    "    with open(srt_path, 'r', encoding='utf-8') as file:\n",
    "        lines = file.readlines()\n",
    "        index = 0\n",
    "        while index < len(lines):\n",
    "            if lines[index].strip().isdigit():\n",
    "                index += 1\n",
    "                time = lines[index].strip()\n",
    "                index += 1\n",
    "                text = \"\"\n",
    "                while index < len(lines) and lines[index].strip() != \"\":\n",
    "                    text += lines[index].strip() + \" \"\n",
    "                    index += 1\n",
    "                subtitles.append((time, text.strip()))\n",
    "            else:\n",
    "                index += 1\n",
    "    return subtitles\n",
    "\n",
    "def merge_subtitles(subtitles):\n",
    "    merged_subtitles = []\n",
    "    for time, text in subtitles:\n",
    "        if merged_subtitles and merged_subtitles[-1][0] == time:\n",
    "            merged_subtitles[-1] = (time, merged_subtitles[-1][1] + \" \" + text)\n",
    "        else:\n",
    "            merged_subtitles.append((time, text))\n",
    "    return merged_subtitles\n",
    "\n",
    "def reorder_subtitles(subtitles):\n",
    "    return sorted(subtitles, key=lambda x: x[0])\n",
    "\n",
    "def save_merged_srt(input_folder, output_folder):\n",
    "    if not os.path.exists(output_folder):\n",
    "        os.makedirs(output_folder)\n",
    "\n",
    "    for filename in os.listdir(input_folder):\n",
    "        if filename.endswith(\".srt\"):\n",
    "            input_file_path = os.path.join(input_folder, filename)\n",
    "            output_file_path = os.path.join(output_folder, filename)\n",
    "\n",
    "            subtitles = read_srt_file(input_file_path)\n",
    "            merged_subtitles = merge_subtitles(subtitles)\n",
    "            reordered_subtitles = reorder_subtitles(merged_subtitles)\n",
    "\n",
    "            with open(output_file_path, 'w', encoding='utf-8') as output_file:\n",
    "                index = 1\n",
    "                for time, text in reordered_subtitles:\n",
    "                    output_file.write(str(index) + '\\n')  # Writing index\n",
    "                    output_file.write(time + '\\n')\n",
    "                    output_file.write(text + '\\n\\n')\n",
    "                    index += 1  # Incrementing index for the next subtitle\n",
    "\n",
    "# Provide the paths to your input and output folders here\n",
    "input_folder = r\"C:\\Users\\ashin\\OneDrive\\Desktop\\new_subtitles_code\\merged_srt\"\n",
    "output_folder = r\"path/to/output/folder\"\n",
    "\n",
    "save_merged_srt(input_folder, output_folder)\n"
   ]
  },
  {
   "cell_type": "code",
   "execution_count": 66,
   "metadata": {},
   "outputs": [],
   "source": [
    "import os\n",
    "\n",
    "def fix_srt_files(folder_path):\n",
    "    for filename in os.listdir(folder_path):\n",
    "        if filename.endswith('.srt'):\n",
    "            filepath = os.path.join(folder_path, filename)\n",
    "            fix_srt_file(filepath)\n",
    "\n",
    "def fix_srt_file(filepath):\n",
    "    lines = []\n",
    "    with open(filepath, 'r', encoding='utf-8') as file:\n",
    "        for line in file:\n",
    "            if '-->' in line:\n",
    "                parts = line.strip().split(' --> ')\n",
    "                parts[0] += ',000'\n",
    "                parts[1] += ',000'\n",
    "                line = ' --> '.join(parts) + '\\n'\n",
    "            lines.append(line)\n",
    "    \n",
    "    with open(filepath, 'w', encoding='utf-8') as file:\n",
    "        file.writelines(lines)\n",
    "\n",
    "# Example usage:\n",
    "folder_path = r'C:\\Users\\ashin\\OneDrive\\Desktop\\new_subtitles_code\\path\\to\\output\\folder'\n",
    "fix_srt_files(folder_path)\n"
   ]
  },
  {
   "cell_type": "code",
   "execution_count": 67,
   "metadata": {},
   "outputs": [
    {
     "ename": "FileExistsError",
     "evalue": "[WinError 183] Cannot create a file when that file already exists: 'C:\\\\Users\\\\ashin\\\\OneDrive\\\\Desktop\\\\new_subtitles_code\\\\path\\\\to\\\\output\\\\folder\\\\segmented_video_part10_transcription_merged.srt' -> 'C:\\\\Users\\\\ashin\\\\OneDrive\\\\Desktop\\\\new_subtitles_code\\\\path\\\\to\\\\output\\\\folder\\\\segmented_video_part10.srt'",
     "output_type": "error",
     "traceback": [
      "\u001b[1;31m---------------------------------------------------------------------------\u001b[0m",
      "\u001b[1;31mFileExistsError\u001b[0m                           Traceback (most recent call last)",
      "Cell \u001b[1;32mIn[67], line 20\u001b[0m\n\u001b[0;32m     17\u001b[0m new_path \u001b[38;5;241m=\u001b[39m os\u001b[38;5;241m.\u001b[39mpath\u001b[38;5;241m.\u001b[39mjoin(folder_path, new_file_name)\n\u001b[0;32m     19\u001b[0m \u001b[38;5;66;03m# Rename the file\u001b[39;00m\n\u001b[1;32m---> 20\u001b[0m \u001b[43mos\u001b[49m\u001b[38;5;241;43m.\u001b[39;49m\u001b[43mrename\u001b[49m\u001b[43m(\u001b[49m\u001b[43mold_path\u001b[49m\u001b[43m,\u001b[49m\u001b[43m \u001b[49m\u001b[43mnew_path\u001b[49m\u001b[43m)\u001b[49m\n\u001b[0;32m     21\u001b[0m \u001b[38;5;28mprint\u001b[39m(\u001b[38;5;124mf\u001b[39m\u001b[38;5;124m\"\u001b[39m\u001b[38;5;124mRenamed \u001b[39m\u001b[38;5;124m'\u001b[39m\u001b[38;5;132;01m{\u001b[39;00mfile_name\u001b[38;5;132;01m}\u001b[39;00m\u001b[38;5;124m'\u001b[39m\u001b[38;5;124m to \u001b[39m\u001b[38;5;124m'\u001b[39m\u001b[38;5;132;01m{\u001b[39;00mnew_file_name\u001b[38;5;132;01m}\u001b[39;00m\u001b[38;5;124m'\u001b[39m\u001b[38;5;124m\"\u001b[39m)\n",
      "\u001b[1;31mFileExistsError\u001b[0m: [WinError 183] Cannot create a file when that file already exists: 'C:\\\\Users\\\\ashin\\\\OneDrive\\\\Desktop\\\\new_subtitles_code\\\\path\\\\to\\\\output\\\\folder\\\\segmented_video_part10_transcription_merged.srt' -> 'C:\\\\Users\\\\ashin\\\\OneDrive\\\\Desktop\\\\new_subtitles_code\\\\path\\\\to\\\\output\\\\folder\\\\segmented_video_part10.srt'"
     ]
    }
   ],
   "source": [
    "import os\n",
    "\n",
    "folder_path = r'C:\\Users\\ashin\\OneDrive\\Desktop\\new_subtitles_code\\path\\to\\output\\folder'\n",
    "\n",
    "# List all files in the directory\n",
    "files = os.listdir(folder_path)\n",
    "\n",
    "# Iterate through each file\n",
    "for file_name in files:\n",
    "    # Check if the file name contains \"_transcription_merged\"\n",
    "    if \"_transcription_merged\" in file_name:\n",
    "        # Construct the new file name by removing \"_transcription_merged\"\n",
    "        new_file_name = file_name.replace(\"_transcription_merged\", \"\")\n",
    "        \n",
    "        # Construct the full paths for both old and new file names\n",
    "        old_path = os.path.join(folder_path, file_name)\n",
    "        new_path = os.path.join(folder_path, new_file_name)\n",
    "        \n",
    "        # Rename the file\n",
    "        os.rename(old_path, new_path)\n",
    "        print(f\"Renamed '{file_name}' to '{new_file_name}'\")\n"
   ]
  },
  {
   "cell_type": "code",
   "execution_count": 68,
   "metadata": {},
   "outputs": [
    {
     "name": "stdout",
     "output_type": "stream",
     "text": [
      "File 'segmented_video_part1.srt' copied successfully.\n",
      "File 'segmented_video_part10.srt' copied successfully.\n",
      "File 'segmented_video_part10_transcription_merged.srt' copied successfully.\n",
      "File 'segmented_video_part11.srt' copied successfully.\n",
      "File 'segmented_video_part11_transcription_merged.srt' copied successfully.\n",
      "File 'segmented_video_part12.srt' copied successfully.\n",
      "File 'segmented_video_part12_transcription_merged.srt' copied successfully.\n",
      "File 'segmented_video_part1_transcription_merged.srt' copied successfully.\n",
      "File 'segmented_video_part2.srt' copied successfully.\n",
      "File 'segmented_video_part2_transcription_merged.srt' copied successfully.\n",
      "File 'segmented_video_part3.srt' copied successfully.\n",
      "File 'segmented_video_part3_transcription_merged.srt' copied successfully.\n",
      "File 'segmented_video_part4.srt' copied successfully.\n",
      "File 'segmented_video_part4_transcription_merged.srt' copied successfully.\n",
      "File 'segmented_video_part5.srt' copied successfully.\n",
      "File 'segmented_video_part5_transcription_merged.srt' copied successfully.\n",
      "File 'segmented_video_part6.srt' copied successfully.\n",
      "File 'segmented_video_part6_transcription_merged.srt' copied successfully.\n",
      "File 'segmented_video_part7.srt' copied successfully.\n",
      "File 'segmented_video_part7_transcription_merged.srt' copied successfully.\n",
      "File 'segmented_video_part8.srt' copied successfully.\n",
      "File 'segmented_video_part8_transcription_merged.srt' copied successfully.\n",
      "File 'segmented_video_part9.srt' copied successfully.\n",
      "File 'segmented_video_part9_transcription_merged.srt' copied successfully.\n",
      "Copy operation completed.\n"
     ]
    }
   ],
   "source": [
    "import os\n",
    "import shutil\n",
    "\n",
    "source_folder = r'C:\\Users\\ashin\\OneDrive\\Desktop\\new_subtitles_code\\path\\to\\output\\folder'\n",
    "destination_folder = r'C:\\Users\\ashin\\OneDrive\\Desktop\\new_subtitles_code\\segmented_videos'\n",
    "\n",
    "# Ensure source folder exists\n",
    "if not os.path.exists(source_folder):\n",
    "    print(f\"Source folder '{source_folder}' does not exist.\")\n",
    "    exit()\n",
    "\n",
    "# Ensure destination folder exists, create if not\n",
    "if not os.path.exists(destination_folder):\n",
    "    os.makedirs(destination_folder)\n",
    "    print(f\"Destination folder '{destination_folder}' created.\")\n",
    "\n",
    "# Iterate over each file in the source folder and copy it to the destination folder\n",
    "for item in os.listdir(source_folder):\n",
    "    source_item_path = os.path.join(source_folder, item)\n",
    "    destination_item_path = os.path.join(destination_folder, item)\n",
    "    if os.path.isfile(source_item_path):\n",
    "        shutil.copy2(source_item_path, destination_item_path)\n",
    "        print(f\"File '{item}' copied successfully.\")\n",
    "\n",
    "print(\"Copy operation completed.\")\n"
   ]
  },
  {
   "cell_type": "code",
   "execution_count": 69,
   "metadata": {},
   "outputs": [
    {
     "name": "stdout",
     "output_type": "stream",
     "text": [
      "FFmpeg error: None\n",
      "FFmpeg error: None\n",
      "FFmpeg error: None\n",
      "FFmpeg error: None\n",
      "FFmpeg error: None\n",
      "FFmpeg error: None\n",
      "FFmpeg error: None\n",
      "FFmpeg error: None\n",
      "FFmpeg error: None\n",
      "FFmpeg error: None\n",
      "FFmpeg error: None\n",
      "FFmpeg error: None\n"
     ]
    }
   ],
   "source": [
    "import os\n",
    "import ffmpeg\n",
    "\n",
    "def concat_srt_with_video_ffmpeg(input_folder, output_folder):\n",
    "    # Create output folder if it doesn't exist\n",
    "    if not os.path.exists(output_folder):\n",
    "        os.makedirs(output_folder)\n",
    "\n",
    "    # Get list of video files in input folder\n",
    "    video_files = [f for f in os.listdir(input_folder) if f.endswith('.mp4')]\n",
    "\n",
    "    # Process each video file\n",
    "    for video_file in video_files:\n",
    "        video_path = os.path.join(input_folder, video_file)\n",
    "        subtitle_file = os.path.splitext(video_file)[0] + '.srt'\n",
    "        subtitle_path = os.path.join(input_folder, subtitle_file)\n",
    "        output_path = os.path.join(output_folder, video_file.replace('.mp4', '_with_subtitles.mp4'))\n",
    "        \n",
    "        try:\n",
    "            # Use ffmpeg to concatenate video with subtitles\n",
    "            ffmpeg.input(video_path).output(output_path, vf=\"subtitles=\" + subtitle_path).run(overwrite_output=True)\n",
    "        except ffmpeg.Error as e:\n",
    "            print('FFmpeg error:', e.stderr)\n",
    "            continue\n",
    "\n",
    "# Example usage:\n",
    "input_folder = r'C:\\Users\\ashin\\OneDrive\\Desktop\\new_subtitles_code\\segmented_videos'\n",
    "output_folder = r'C:\\Users\\ashin\\OneDrive\\Desktop\\new_subtitles_code\\final_output_videos'\n",
    "concat_srt_with_video_ffmpeg(input_folder, output_folder)\n"
   ]
  },
  {
   "cell_type": "code",
   "execution_count": 70,
   "metadata": {},
   "outputs": [],
   "source": [
    "!cd segmented_videos/"
   ]
  },
  {
   "cell_type": "code",
   "execution_count": 71,
   "metadata": {},
   "outputs": [
    {
     "name": "stdout",
     "output_type": "stream",
     "text": [
      "Invalid directory path.\n"
     ]
    }
   ],
   "source": [
    "!python overlay_subtitles.py r\"C:\\Users\\ashin\\OneDrive\\Desktop\\new_subtitles_code\\segmented_videos\""
   ]
  },
  {
   "cell_type": "code",
   "execution_count": 2,
   "metadata": {},
   "outputs": [],
   "source": [
    "def merge_srt(srt1, srt2):\n",
    "    merged_srt = []\n",
    "    for srt in [srt1, srt2]:\n",
    "        for subtitle in srt:\n",
    "            merged_srt.append(subtitle)\n",
    "    merged_srt.sort(key=lambda x: x['start'])\n",
    "    return merged_srt\n",
    "\n",
    "def read_srt(filename):\n",
    "    subtitles = []\n",
    "    with open(filename, 'r', encoding='utf-8') as file:\n",
    "        lines = file.readlines()\n",
    "        for i in range(0, len(lines), 4):\n",
    "            index = int(lines[i].strip())\n",
    "            times = lines[i + 1].strip().split(' --> ')\n",
    "            start = times[0]\n",
    "            end = times[1]\n",
    "            # Correct the timestamp format\n",
    "            start = start.replace(',', '.')\n",
    "            end = end.replace(',', '.')\n",
    "            text = lines[i + 2].strip()\n",
    "            subtitle = {'index': index, 'start': start, 'end': end, 'text': text}\n",
    "            subtitles.append(subtitle)\n",
    "    return subtitles\n",
    "\n",
    "def write_srt(subtitles, filename):\n",
    "    with open(filename, 'w') as file:\n",
    "        for subtitle in subtitles:\n",
    "            file.write(str(subtitle['index']) + '\\n')\n",
    "            file.write(subtitle['start'] + ' --> ' + subtitle['end'] + '\\n')\n",
    "            file.write(subtitle['text'] + '\\n\\n')\n",
    "\n",
    "# Read subtitles from both files\n",
    "srt1 = read_srt('srt1.srt')\n",
    "srt2 = read_srt('srt2.srt')\n",
    "\n",
    "# Merge subtitles based on timestamps\n",
    "merged_srt = merge_srt(srt1, srt2)\n",
    "\n",
    "# Write the merged subtitles to a new file\n",
    "write_srt(merged_srt, 'merged.srt')\n",
    "\n"
   ]
  },
  {
   "cell_type": "code",
   "execution_count": null,
   "metadata": {},
   "outputs": [],
   "source": []
  }
 ],
 "metadata": {
  "kernelspec": {
   "display_name": "Python 3",
   "language": "python",
   "name": "python3"
  },
  "language_info": {
   "codemirror_mode": {
    "name": "ipython",
    "version": 3
   },
   "file_extension": ".py",
   "mimetype": "text/x-python",
   "name": "python",
   "nbconvert_exporter": "python",
   "pygments_lexer": "ipython3",
   "version": "3.9.18"
  }
 },
 "nbformat": 4,
 "nbformat_minor": 2
}
